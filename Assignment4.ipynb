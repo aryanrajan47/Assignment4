{
 "cells": [
  {
   "cell_type": "code",
   "execution_count": 9,
   "id": "89ad3fc0-73e6-473e-9063-ddc3fab0bd2a",
   "metadata": {},
   "outputs": [
    {
     "data": {
      "text/plain": [
       "' EXAMPLE : Suppose car is a class , then we can create objects like FORD, PORSCHE, FERRARI, TOYOTA etc '"
      ]
     },
     "execution_count": 9,
     "metadata": {},
     "output_type": "execute_result"
    }
   ],
   "source": [
    "# QUESTION 1\n",
    "\n",
    "''' CLASS   : Class is a code template for creating variables '''\n",
    "''' OBJECT  : An object is a collection of data(variables) and methods(functions) '''\n",
    "\n",
    "''' EXAMPLE : Suppose car is a class , then we can create objects like FORD, PORSCHE, FERRARI, TOYOTA etc '''\n"
   ]
  },
  {
   "cell_type": "code",
   "execution_count": 10,
   "id": "e4976281-a74d-430e-b6ed-3ebc9809e044",
   "metadata": {},
   "outputs": [
    {
     "data": {
      "text/plain": [
       "'\\n   The Four Pillars of OOPs \\n    1) Abstraction  \\n    2) Encapsulation \\n    3) Inheritance\\n    4) Polymorphism           \\n                        '"
      ]
     },
     "execution_count": 10,
     "metadata": {},
     "output_type": "execute_result"
    }
   ],
   "source": [
    "# QUESTION 2\n",
    "\n",
    "'''\n",
    "   The Four Pillars of OOPs \n",
    "    1) Abstraction  \n",
    "    2) Encapsulation \n",
    "    3) Inheritance\n",
    "    4) Polymorphism           \n",
    "                        '''\n"
   ]
  },
  {
   "cell_type": "code",
   "execution_count": 11,
   "id": "a7d82d5a-4da6-4589-a091-c0eb9eb668cf",
   "metadata": {},
   "outputs": [
    {
     "name": "stdout",
     "output_type": "stream",
     "text": [
      "21 9328422409 aryanrajan33@gmail.com\n",
      "21\n",
      "9328422409\n",
      "aryanrajan33@gmail.com\n"
     ]
    }
   ],
   "source": [
    "# QUESTION 3\n",
    "\n",
    "''' __init__() function lets the class initialize the object's attributes and serves no other purpose '''\n",
    "\n",
    "class pwskills:\n",
    "    def __init__(aryan,age,phone_number,email_id):\n",
    "        aryan.AGE = age\n",
    "        aryan.PHONE = phone_number\n",
    "        aryan.EMAIL = email_id \n",
    "\n",
    "    def details(self):  \n",
    "        print(self.AGE,self.PHONE,self.EMAIL)\n",
    "    \n",
    "b = pwskills(21,9328422409,\"aryanrajan33@gmail.com\")\n",
    "b.details()\n",
    "print(b.AGE)\n",
    "print(b.PHONE)\n",
    "print(b.EMAIL)\n"
   ]
  },
  {
   "cell_type": "code",
   "execution_count": 6,
   "id": "5e1dba53-ff08-4891-9480-84425c77dfbc",
   "metadata": {},
   "outputs": [
    {
     "data": {
      "text/plain": [
       "' SELF allows you to access variables , attributes and methods of a defined class in OOPs '"
      ]
     },
     "execution_count": 6,
     "metadata": {},
     "output_type": "execute_result"
    }
   ],
   "source": [
    "# QUESTION 4\n",
    "''' SELF allows you to access variables , attributes and methods of a defined class in OOPs '''\n",
    "\n",
    "\n"
   ]
  },
  {
   "cell_type": "code",
   "execution_count": 3,
   "id": "a30ac92d-f52c-4b3a-aae1-88aa79fbb7ae",
   "metadata": {},
   "outputs": [
    {
     "data": {
      "text/plain": [
       "' \\n    There are FIVE types of inheritance : \\n\\n    1) Single Inheritance\\n    2) Multiple Inheritance \\n    3) Multilevel Inheritance\\n    4) Hierarchical Inheritance \\n    5) Hybrid Inheritance \\n                                      '"
      ]
     },
     "execution_count": 3,
     "metadata": {},
     "output_type": "execute_result"
    }
   ],
   "source": [
    "# QUESTION 5\n",
    "''' Inheritance allows us to define a class that inherits all the methods and properties from another class '''\n",
    "''' \n",
    "    There are FIVE types of inheritance : \n",
    "\n",
    "    1) Single Inheritance\n",
    "    2) Multiple Inheritance \n",
    "    3) Multilevel Inheritance\n",
    "    4) Hierarchical Inheritance \n",
    "    5) Hybrid Inheritance \n",
    "                                      '''\n",
    "\n"
   ]
  },
  {
   "cell_type": "code",
   "execution_count": null,
   "id": "da6f0ed9-0332-4297-be58-0eb345d3faa7",
   "metadata": {},
   "outputs": [],
   "source": []
  }
 ],
 "metadata": {
  "kernelspec": {
   "display_name": "Python 3 (ipykernel)",
   "language": "python",
   "name": "python3"
  },
  "language_info": {
   "codemirror_mode": {
    "name": "ipython",
    "version": 3
   },
   "file_extension": ".py",
   "mimetype": "text/x-python",
   "name": "python",
   "nbconvert_exporter": "python",
   "pygments_lexer": "ipython3",
   "version": "3.10.6"
  }
 },
 "nbformat": 4,
 "nbformat_minor": 5
}
